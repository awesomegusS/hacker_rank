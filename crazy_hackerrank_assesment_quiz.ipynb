{
 "cells": [
  {
   "cell_type": "markdown",
   "id": "e5ffc9e7-5d23-4bc1-b356-791fb84610fd",
   "metadata": {},
   "source": [
    "Given:\n",
    "\\begin{align} \n",
    "a_nx^n + a_{n-1}x^{n-1} + a_{n-2}x^{n-2} + ... + a_0x^0 \n",
    "\\end{align} \n",
    "polynomial, create an array that holds the coeffients in the format shown below: <br>\n",
    "$(a0, a1, a2, ... , an)$ <br>\n",
    "\n",
    "For example: <br>\n",
    "**Expression:**  \n",
    "2x^3 + x - 1\n",
    "\n",
    "**Output List:**  \n",
    "['-1.00000', '1.00000', '0.00000', '2.00000']"
   ]
  },
  {
   "cell_type": "code",
   "execution_count": 265,
   "id": "5934de80-0a09-45ff-b16b-a9d644a6e182",
   "metadata": {},
   "outputs": [],
   "source": [
    "def poly_to_vec_str(poly):\n",
    "    # create poly array that holds individual peices of the equation\n",
    "    if '' in poly.split():\n",
    "        poly = ''.join(poly).split()\n",
    "    else:\n",
    "        poly = poly.split()\n",
    "    \n",
    "    # create output vector\n",
    "    a = []\n",
    "    for ch in poly:\n",
    "        if '^' in ch:\n",
    "            a.append(ch[-1])\n",
    "    if len(a) > 0:\n",
    "        vec = [0] * (int(max(a)) + 1)\n",
    "    else: \n",
    "        vec = [0] * 2\n",
    "        \n",
    "    # body...this replaces items in intial output vec with the coeffiecients \n",
    "    for ix, i in enumerate(poly):\n",
    "        if len(i) > 1: # if character is longer than 1\n",
    "            if 'x' in i: # check if its a variable\n",
    "                value = i.split('x')\n",
    "                if value[0]:\n",
    "                    coef = int(value[0]) \n",
    "                else:\n",
    "                    coef = 1\n",
    "                deg = int(value[-1][-1])\n",
    "                # update output vec\n",
    "                vec[deg] = coef\n",
    "                \n",
    "            else: \n",
    "                # update output vec, value i has to be the constant\n",
    "                vec[0] = int(i)\n",
    "\n",
    "        elif i in ['-', '+']: # if char is a sign\n",
    "            next_val = poly[ix + 1] # get next char in poly\n",
    "\n",
    "            if len(next_val) > 1: # check if next val is not a constant\n",
    "                value = next_val.split('x') # split the next val because it is a full term in poly\n",
    "                if value[0]:\n",
    "                    coef = int(i + value[0])  # get the coeficienct and concatenate its sign\n",
    "                else:\n",
    "                    coef = 1\n",
    "                deg = int(value[-1][-1]) # get the power\n",
    "\n",
    "                # update output vec\n",
    "                vec[deg] = coef\n",
    "                poly.remove(next_val)\n",
    "            else: # constant or x\n",
    "                if next_val.isnumeric(): # check if it is a number\n",
    "                    value = i + next_val # concatenate val with its sign\n",
    "                    # update output vec\n",
    "                    vec[0] = int(value) # it has to be the constant of the poly\n",
    "\n",
    "                else: # if it is x\n",
    "                    value = i + '1' # then its just x with power 1 and has a coeff of 1, concatenate the sign with 1\n",
    "                    # update output vec\n",
    "                    vec[1] = int(value)\n",
    "        elif ix == 0: # check if we still in the first term of poly after prev conditions\n",
    "            if i == 'x': # if it is just x then \n",
    "                vec[1] = 1\n",
    "            else:\n",
    "                vec[0] = int(i) # it is a constant \n",
    "        \n",
    "        elif i == 'x':\n",
    "            continue\n",
    "            \n",
    "    return [f'{i:.5f}' for i in vec] # convert to 5 point decimal\n",
    "    \n",
    "    "
   ]
  },
  {
   "cell_type": "code",
   "execution_count": 266,
   "id": "323bc0c3-3f2a-4239-b354-5484908ef159",
   "metadata": {},
   "outputs": [
    {
     "data": {
      "text/plain": [
       "['-2.00000', '1.00000', '-2.00000', '-2.00000']"
      ]
     },
     "execution_count": 266,
     "metadata": {},
     "output_type": "execute_result"
    }
   ],
   "source": [
    "poly_to_vec_str('-2x^3 - 2x^2 + x - 2')"
   ]
  },
  {
   "cell_type": "code",
   "execution_count": 267,
   "id": "669a3eac-23dc-44ae-b0ea-c9be3babf4bb",
   "metadata": {},
   "outputs": [
    {
     "data": {
      "text/plain": [
       "['-1.00000', '0.00000', '2.00000']"
      ]
     },
     "execution_count": 267,
     "metadata": {},
     "output_type": "execute_result"
    }
   ],
   "source": [
    "poly_to_vec_str('-1 + 2x^2')"
   ]
  },
  {
   "cell_type": "code",
   "execution_count": 268,
   "id": "e338385b-6a19-4ad8-bdfc-d6f9eada2a99",
   "metadata": {},
   "outputs": [
    {
     "data": {
      "text/plain": [
       "['-1.00000', '0.00000', '0.00000', '0.00000', '-2.00000']"
      ]
     },
     "execution_count": 268,
     "metadata": {},
     "output_type": "execute_result"
    }
   ],
   "source": [
    "poly_to_vec_str('-1 - 2x^4')"
   ]
  },
  {
   "cell_type": "code",
   "execution_count": 269,
   "id": "cd4113b3-d7fb-4b66-9aec-1d670264223a",
   "metadata": {},
   "outputs": [
    {
     "data": {
      "text/plain": [
       "['2.00000', '0.00000', '1.00000']"
      ]
     },
     "execution_count": 269,
     "metadata": {},
     "output_type": "execute_result"
    }
   ],
   "source": [
    "poly_to_vec_str('x^2 + 2')"
   ]
  },
  {
   "cell_type": "code",
   "execution_count": 270,
   "id": "52f6d4c4-86b5-469a-a749-171f4e63d3e4",
   "metadata": {},
   "outputs": [
    {
     "data": {
      "text/plain": [
       "['2.00000', '0.00000', '1.00000']"
      ]
     },
     "execution_count": 270,
     "metadata": {},
     "output_type": "execute_result"
    }
   ],
   "source": [
    "poly_to_vec_str('2 + x^2')"
   ]
  },
  {
   "cell_type": "code",
   "execution_count": 271,
   "id": "80144ef3-bec3-4017-9f51-1364d7aa5027",
   "metadata": {},
   "outputs": [
    {
     "data": {
      "text/plain": [
       "['1.00000', '1.00000']"
      ]
     },
     "execution_count": 271,
     "metadata": {},
     "output_type": "execute_result"
    }
   ],
   "source": [
    "poly_to_vec_str('x + 1')"
   ]
  },
  {
   "cell_type": "code",
   "execution_count": 272,
   "id": "79594314-9685-4541-8adc-7536360d266a",
   "metadata": {},
   "outputs": [
    {
     "data": {
      "text/plain": [
       "['1.00000', '1.00000']"
      ]
     },
     "execution_count": 272,
     "metadata": {},
     "output_type": "execute_result"
    }
   ],
   "source": [
    "poly_to_vec_str('1 + x')"
   ]
  },
  {
   "cell_type": "code",
   "execution_count": null,
   "id": "374344e7-73d1-44ba-9f9b-9405eacd1fc0",
   "metadata": {},
   "outputs": [],
   "source": []
  }
 ],
 "metadata": {
  "kernelspec": {
   "display_name": "Py3.8.6 (main env)",
   "language": "python",
   "name": "python3"
  },
  "language_info": {
   "codemirror_mode": {
    "name": "ipython",
    "version": 3
   },
   "file_extension": ".py",
   "mimetype": "text/x-python",
   "name": "python",
   "nbconvert_exporter": "python",
   "pygments_lexer": "ipython3",
   "version": "3.8.6"
  }
 },
 "nbformat": 4,
 "nbformat_minor": 5
}
